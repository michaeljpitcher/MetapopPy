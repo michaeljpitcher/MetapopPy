{
 "cells": [
  {
   "cell_type": "code",
   "execution_count": 10,
   "metadata": {
    "collapsed": true
   },
   "outputs": [],
   "source": [
    "from tbmetapoppy import *\n",
    "import epyc\n",
    "import ConfigParser"
   ]
  },
  {
   "cell_type": "code",
   "execution_count": 11,
   "metadata": {
    "collapsed": true
   },
   "outputs": [],
   "source": [
    "experiment_name = 'sandbox'\n",
    "reps = 2"
   ]
  },
  {
   "cell_type": "code",
   "execution_count": 12,
   "metadata": {
    "collapsed": true
   },
   "outputs": [],
   "source": [
    "# Create a notebook for results and a lab in which to run the experiments\n",
    "nb = epyc.JSONLabNotebook('experiments/' + experiment_name + '/output.json', create=True, \n",
    "                          description=experiment_name + ' experiment')\n",
    "lab = epyc.Lab(nb)"
   ]
  },
  {
   "cell_type": "code",
   "execution_count": 13,
   "metadata": {
    "collapsed": false
   },
   "outputs": [
    {
     "data": {
      "text/plain": [
       "['experiments/sandbox/config.ini']"
      ]
     },
     "execution_count": 13,
     "metadata": {},
     "output_type": "execute_result"
    }
   ],
   "source": [
    "# Import config file\n",
    "config = ConfigParser.ConfigParser()\n",
    "config.read('experiments/' + experiment_name + '/config.ini')"
   ]
  },
  {
   "cell_type": "code",
   "execution_count": 14,
   "metadata": {
    "collapsed": false
   },
   "outputs": [],
   "source": [
    "network_config = {}\n",
    "network_config[PulmonaryNetwork.TOPOLOGY] = config.get('Network_Build', 'topology')\n",
    "network_config[PulmonaryNetwork.BOUNDARY] = [[float(a) for a in n[1:-1].split(\",\")]\n",
    "                                              for n in config.get('Network_Build', 'boundary').split(\":\")]\n",
    "network_config[PulmonaryNetwork.LENGTH_DIVISOR] = config.getfloat('Network_Build', 'length_divisor')\n",
    "network_config[PulmonaryNetwork.MINIMUM_AREA] = config.getfloat('Network_Build', 'minimum_area')"
   ]
  },
  {
   "cell_type": "code",
   "execution_count": 15,
   "metadata": {
    "collapsed": true
   },
   "outputs": [],
   "source": [
    "dynamics = TBDynamics(network_config)"
   ]
  },
  {
   "cell_type": "code",
   "execution_count": 16,
   "metadata": {
    "collapsed": true
   },
   "outputs": [],
   "source": [
    "for section in ['Event_Parameters', 'Network_Parameters']:\n",
    "    for k,v in config.items(section):\n",
    "        param = v.split(\",\")\n",
    "        if len(param) == 1:\n",
    "            lab[k] = float(v)\n",
    "        else:\n",
    "            minimum, maximum, intervals = [float(n) for n in param]\n",
    "            lab[k] = numpy.linspace(minimum, maximum, intervals)"
   ]
  },
  {
   "cell_type": "code",
   "execution_count": 17,
   "metadata": {
    "collapsed": false
   },
   "outputs": [
    {
     "name": "stdout",
     "output_type": "stream",
     "text": [
      "Running experiment for:\n",
      "macrophage_activation_by_bacteria_rate -> [0.0]\n",
      "t_cell_translocation_rate -> [0.0]\n",
      "change_to_replicating_halfsat -> [0.0]\n",
      "change_to_replicating_sigmoid -> [0.0]\n",
      "dendritic_cell_translocation_rate -> [0.0]\n",
      "macrophage_infection_rate -> [0.0]\n",
      "replicating_extracellular_bacteria_replication_rate -> [0.0]\n",
      "macrophage_activation_by_bacteria_half_sat -> [0.0]\n",
      "change_to_dormancy_halfsat -> [0.0]\n",
      "macrophage_capacity -> [0.0]\n",
      "mature_dendritic_cell_death_rate -> [0.0]\n",
      "t_cell_activation_half_sat -> [0.0]\n",
      "t_cell_activated_death_rate -> [0.0]\n",
      "regular_macrophage_bacterial_destruction_rate -> [0.0]\n",
      "t_cell_activation_rate -> [0.0]\n",
      "t_cell_naive_death_rate -> [1.0]\n",
      "change_to_replicating_rate -> [0.0]\n",
      "t_cell_destroys_macrophage_rate -> [0.0]\n",
      "change_to_dormancy_rate -> [0.0]\n",
      "resting_macrophage_death_rate -> [0.0001]\n",
      "macrophage_lymph_recruitment_rate -> [0.0]\n",
      "t_cell_recruitment_rate -> [0.0]\n",
      "macrophage_bursting_rate -> [0.0]\n",
      "perfusion_skew -> [1.0]\n",
      "regular_macrophage_bacterial_destruction_half_sat -> [0.0]\n",
      "dendritic_cell_maturation_halfsat -> [0.0]\n",
      "intracellular_bacteria_replication_rate -> [0.0]\n",
      "macrophage_infection_half_sat -> [0.0]\n",
      "activated_macrophage_death_rate -> [0.0]\n",
      "macrophage_activation_by_tcell_half_sat -> [0.0]\n",
      "ventilation_skew -> [1.0]\n",
      "activated_macrophage_bacterial_destruction_half_sat -> [0.0]\n",
      "dendritic_cell_maturation_rate -> [0.0]\n",
      "macrophage_lung_recruitment_rate -> [  0.5  10. ]\n",
      "change_to_dormancy_sigmoid -> [0.0]\n",
      "sigmoid_intracellular_bacteria_replication -> [0.0]\n",
      "macrophage_activation_by_tcell_rate -> [0.0]\n",
      "immature_dendritic_cell_death_rate -> [1.0]\n",
      "infected_macrophage_death_rate -> [0.0]\n",
      "drainage_skew -> [1.0]\n",
      "t_cell_destroys_macrophage_half_sat -> [0.0]\n",
      "bacteria_blood_translocation_rate -> [0.0]\n",
      "dormant_extracellular_bacteria_replication_rate -> [0.0]\n",
      "activated_macrophage_bacterial_destruction_rate -> [0.0]\n",
      "macrophage_translocation_rate -> [0.0]\n",
      "dendritic_cell_recruitment_rate -> [0.0]\n"
     ]
    }
   ],
   "source": [
    "# Run repetitions of the experiment at each point in the parameter space\n",
    "print \"Running experiment for:\"\n",
    "for p in lab.parameters():\n",
    "    print \"{p} -> {r}\".format(p = p, r = lab[p])\n",
    "lab.runExperiment(epyc.RepeatedExperiment(dynamics, reps))"
   ]
  },
  {
   "cell_type": "code",
   "execution_count": 18,
   "metadata": {
    "collapsed": false
   },
   "outputs": [
    {
     "name": "stdout",
     "output_type": "stream",
     "text": [
      "                                                   1  \\\n",
      "0  {u'M_i': 0, u'T_n': 0, u'B_id': 0, u'B_ed': 0,...   \n",
      "1  {u'M_i': 0, u'T_n': 0, u'B_id': 0, u'B_ed': 0,...   \n",
      "2  {u'M_i': 0, u'T_n': 0, u'B_id': 0, u'B_ed': 0,...   \n",
      "3  {u'M_i': 0, u'T_n': 0, u'B_id': 0, u'B_ed': 0,...   \n",
      "\n",
      "                                                   2  \\\n",
      "0  {u'M_i': 0, u'T_n': 0, u'B_id': 0, u'B_ed': 0,...   \n",
      "1  {u'M_i': 0, u'T_n': 0, u'B_id': 0, u'B_ed': 0,...   \n",
      "2  {u'M_i': 0, u'T_n': 0, u'B_id': 0, u'B_ed': 0,...   \n",
      "3  {u'M_i': 0, u'T_n': 0, u'B_id': 0, u'B_ed': 0,...   \n",
      "\n",
      "                                                   3  \\\n",
      "0  {u'M_i': 0, u'T_n': 0, u'B_id': 0, u'B_ed': 0,...   \n",
      "1  {u'M_i': 0, u'T_n': 0, u'B_id': 0, u'B_ed': 0,...   \n",
      "2  {u'M_i': 0, u'T_n': 0, u'B_id': 0, u'B_ed': 0,...   \n",
      "3  {u'M_i': 0, u'T_n': 0, u'B_id': 0, u'B_ed': 0,...   \n",
      "\n",
      "                                                   4  \\\n",
      "0  {u'M_i': 0, u'T_n': 0, u'B_id': 0, u'B_ed': 0,...   \n",
      "1  {u'M_i': 0, u'T_n': 0, u'B_id': 0, u'B_ed': 0,...   \n",
      "2  {u'M_i': 0, u'T_n': 0, u'B_id': 0, u'B_ed': 0,...   \n",
      "3  {u'M_i': 0, u'T_n': 0, u'B_id': 0, u'B_ed': 0,...   \n",
      "\n",
      "                                                   5  \\\n",
      "0  {u'M_i': 0, u'T_n': 0, u'B_id': 0, u'B_ed': 0,...   \n",
      "1  {u'M_i': 0, u'T_n': 0, u'B_id': 0, u'B_ed': 0,...   \n",
      "2  {u'M_i': 0, u'T_n': 0, u'B_id': 0, u'B_ed': 0,...   \n",
      "3  {u'M_i': 0, u'T_n': 0, u'B_id': 0, u'B_ed': 0,...   \n",
      "\n",
      "                                                   6  \\\n",
      "0  {u'M_i': 0, u'T_n': 0, u'B_id': 0, u'B_ed': 0,...   \n",
      "1  {u'M_i': 0, u'T_n': 0, u'B_id': 0, u'B_ed': 0,...   \n",
      "2  {u'M_i': 0, u'T_n': 0, u'B_id': 0, u'B_ed': 0,...   \n",
      "3  {u'M_i': 0, u'T_n': 0, u'B_id': 0, u'B_ed': 0,...   \n",
      "\n",
      "                                                   7  \\\n",
      "0  {u'M_i': 0, u'T_n': 0, u'B_id': 0, u'B_ed': 0,...   \n",
      "1  {u'M_i': 0, u'T_n': 0, u'B_id': 0, u'B_ed': 0,...   \n",
      "2  {u'M_i': 0, u'T_n': 0, u'B_id': 0, u'B_ed': 0,...   \n",
      "3  {u'M_i': 0, u'T_n': 0, u'B_id': 0, u'B_ed': 0,...   \n",
      "\n",
      "                                                   8  \\\n",
      "0  {u'M_i': 0, u'T_n': 0, u'B_id': 0, u'B_ed': 0,...   \n",
      "1  {u'M_i': 0, u'T_n': 0, u'B_id': 0, u'B_ed': 0,...   \n",
      "2  {u'M_i': 0, u'T_n': 0, u'B_id': 0, u'B_ed': 0,...   \n",
      "3  {u'M_i': 0, u'T_n': 0, u'B_id': 0, u'B_ed': 0,...   \n",
      "\n",
      "                                                   9  \\\n",
      "0  {u'M_i': 0, u'T_n': 0, u'B_id': 0, u'B_ed': 0,...   \n",
      "1  {u'M_i': 0, u'T_n': 0, u'B_id': 0, u'B_ed': 0,...   \n",
      "2  {u'M_i': 0, u'T_n': 0, u'B_id': 0, u'B_ed': 0,...   \n",
      "3  {u'M_i': 0, u'T_n': 0, u'B_id': 0, u'B_ed': 0,...   \n",
      "\n",
      "                                                  10       ...         \\\n",
      "0  {u'M_i': 0, u'T_n': 0, u'B_id': 0, u'B_ed': 0,...       ...          \n",
      "1  {u'M_i': 0, u'T_n': 0, u'B_id': 0, u'B_ed': 0,...       ...          \n",
      "2  {u'M_i': 0, u'T_n': 0, u'B_id': 0, u'B_ed': 0,...       ...          \n",
      "3  {u'M_i': 0, u'T_n': 0, u'B_id': 0, u'B_ed': 0,...       ...          \n",
      "\n",
      "  t_cell_activated_death_rate t_cell_activation_half_sat  \\\n",
      "0                         0.0                        0.0   \n",
      "1                         0.0                        0.0   \n",
      "2                         0.0                        0.0   \n",
      "3                         0.0                        0.0   \n",
      "\n",
      "  t_cell_activation_rate t_cell_destroys_macrophage_half_sat  \\\n",
      "0                    0.0                                 0.0   \n",
      "1                    0.0                                 0.0   \n",
      "2                    0.0                                 0.0   \n",
      "3                    0.0                                 0.0   \n",
      "\n",
      "  t_cell_destroys_macrophage_rate t_cell_naive_death_rate  \\\n",
      "0                             0.0                     1.0   \n",
      "1                             0.0                     1.0   \n",
      "2                             0.0                     1.0   \n",
      "3                             0.0                     1.0   \n",
      "\n",
      "  t_cell_recruitment_rate t_cell_translocation_rate teardown_time  \\\n",
      "0                     0.0                       0.0      0.000038   \n",
      "1                     0.0                       0.0      0.000046   \n",
      "2                     0.0                       0.0      0.000034   \n",
      "3                     0.0                       0.0      0.000050   \n",
      "\n",
      "  ventilation_skew  \n",
      "0              1.0  \n",
      "1              1.0  \n",
      "2              1.0  \n",
      "3              1.0  \n",
      "\n",
      "[4 rows x 118 columns]\n"
     ]
    }
   ],
   "source": [
    "print nb.dataframe()"
   ]
  },
  {
   "cell_type": "code",
   "execution_count": null,
   "metadata": {
    "collapsed": true
   },
   "outputs": [],
   "source": []
  }
 ],
 "metadata": {
  "kernelspec": {
   "display_name": "Python 2",
   "language": "python",
   "name": "python2"
  },
  "language_info": {
   "codemirror_mode": {
    "name": "ipython",
    "version": 2
   },
   "file_extension": ".py",
   "mimetype": "text/x-python",
   "name": "python",
   "nbconvert_exporter": "python",
   "pygments_lexer": "ipython2",
   "version": "2.7.10"
  }
 },
 "nbformat": 4,
 "nbformat_minor": 0
}
